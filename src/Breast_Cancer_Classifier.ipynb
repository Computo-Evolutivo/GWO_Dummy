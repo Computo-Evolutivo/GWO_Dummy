{
 "cells": [
  {
   "cell_type": "code",
   "execution_count": 8,
   "id": "initial_id",
   "metadata": {
    "collapsed": true,
    "ExecuteTime": {
     "end_time": "2024-05-15T10:38:58.866575984Z",
     "start_time": "2024-05-15T10:38:58.862361822Z"
    }
   },
   "outputs": [],
   "source": [
    "from sklearn.model_selection import train_test_split\n",
    "from sklearn.datasets import load_breast_cancer\n",
    "from sklearn.metrics import accuracy_score\n",
    "import pandas as pd\n",
    "from sklearn.preprocessing import MinMaxScaler"
   ]
  },
  {
   "cell_type": "code",
   "outputs": [],
   "source": [
    "breast_cancer = load_breast_cancer()\n",
    "X = breast_cancer.data\n",
    "y = breast_cancer.target"
   ],
   "metadata": {
    "collapsed": false,
    "ExecuteTime": {
     "end_time": "2024-05-15T10:39:00.232561895Z",
     "start_time": "2024-05-15T10:39:00.218371120Z"
    }
   },
   "id": "b4ed9040e5686ee",
   "execution_count": 9
  },
  {
   "cell_type": "code",
   "outputs": [],
   "source": [
    "X_train, X_test, y_train, y_test = train_test_split(X, y, test_size=.2, random_state=21)\n",
    "# Estandarizamos los valores de X entre 0 y 1\n",
    "scaler = MinMaxScaler()\n",
    "X_train = scaler.fit_transform(X_train)\n",
    "X_test = scaler.fit_transform(X_test)"
   ],
   "metadata": {
    "collapsed": false,
    "ExecuteTime": {
     "end_time": "2024-05-15T10:39:01.363408453Z",
     "start_time": "2024-05-15T10:39:01.351286425Z"
    }
   },
   "id": "2fc18b42643759fd",
   "execution_count": 10
  },
  {
   "cell_type": "code",
   "outputs": [
    {
     "name": "stdout",
     "output_type": "stream",
     "text": [
      "[1.973e+01 1.982e+01 1.307e+02 1.206e+03 1.062e-01 1.849e-01 2.417e-01\n",
      " 9.740e-02 1.733e-01 6.697e-02 7.661e-01 7.800e-01 4.115e+00 9.281e+01\n",
      " 8.482e-03 5.057e-02 6.800e-02 1.971e-02 1.467e-02 7.259e-03 2.528e+01\n",
      " 2.559e+01 1.598e+02 1.933e+03 1.710e-01 5.955e-01 8.489e-01 2.507e-01\n",
      " 2.749e-01 1.297e-01]\n"
     ]
    }
   ],
   "source": [
    "print(X_train[1])"
   ],
   "metadata": {
    "collapsed": false,
    "ExecuteTime": {
     "end_time": "2024-05-15T11:34:47.634541919Z",
     "start_time": "2024-05-15T11:34:47.630834881Z"
    }
   },
   "id": "a21530ed07408c68",
   "execution_count": 14
  }
 ],
 "metadata": {
  "kernelspec": {
   "display_name": "Python 3",
   "language": "python",
   "name": "python3"
  },
  "language_info": {
   "codemirror_mode": {
    "name": "ipython",
    "version": 2
   },
   "file_extension": ".py",
   "mimetype": "text/x-python",
   "name": "python",
   "nbconvert_exporter": "python",
   "pygments_lexer": "ipython2",
   "version": "2.7.6"
  }
 },
 "nbformat": 4,
 "nbformat_minor": 5
}
