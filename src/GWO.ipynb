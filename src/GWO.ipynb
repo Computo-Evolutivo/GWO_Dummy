{
 "cells": [
  {
   "cell_type": "code",
   "execution_count": 5,
   "id": "initial_id",
   "metadata": {
    "collapsed": true
   },
   "outputs": [],
   "source": [
    "from Wolf import Wolf\n",
    "from Functions import Griewank, Sphere, Ackley, Rastrigin, Rosenbrock\n",
    "import random\n",
    "import copy\n",
    "import numpy as np\n",
    "import time"
   ]
  },
  {
   "cell_type": "code",
   "execution_count": 32,
   "id": "4e994031be15889a",
   "metadata": {
    "collapsed": false
   },
   "outputs": [],
   "source": [
    "class GWO:\n",
    "    \n",
    "    \n",
    "    def __init__(self, dimensions, function, number_of_wolves, iterations, random_seed=time.time()):\n",
    "        self.dimensions = dimensions\n",
    "        self.number_of_wolves = number_of_wolves\n",
    "        self.iterations = iterations\n",
    "        self.rand = random.Random(random_seed)\n",
    "        \n",
    "        # Inicializamos la población\n",
    "        self.population = [Wolf(dimensions, copy.copy(function), random.randint(0, 100000)) for _ in range(self.number_of_wolves)]\n",
    "        \n",
    "        # Jerarquia de la poblacion\n",
    "        self.alpha = None\n",
    "        self.beta = None\n",
    "        self.delta = None\n",
    "        \n",
    "        self.initialize_population()\n",
    "        self.set_hierarchy()\n",
    "        \n",
    "        \n",
    "    def initialize_population(self):\n",
    "        for individual in self.population:\n",
    "            individual.random_position()\n",
    "        \n",
    "       \n",
    "    def evaluate_population(self):\n",
    "        for individual in self.population:\n",
    "            individual.evaluate()\n",
    "        \n",
    "    # Establecemos la jerarquia de la población\n",
    "    def set_hierarchy(self):\n",
    "        \n",
    "        self.evaluate_population()\n",
    "        \n",
    "        # Ahora tomamos al mejor como el alfa, al segundo como beta, tercero como delta y todos los demas son omegas\n",
    "        self.alpha = self.population[0]\n",
    "        self.beta = self.population[1]\n",
    "        self.delta = self.population[2]\n",
    "        \n",
    "    def hunt(self):\n",
    "        # Realizamos los ciclos especificados\n",
    "        for iteration in range(self.iterations):\n",
    "            # a decrementa paulatinamente de 2 a 0\n",
    "            a = 2 - iteration * ((2)/self.iterations)\n",
    "            # Actualizamos la posicion de todos los miembros de la población \n",
    "            for wolf in range(self.number_of_wolves):\n",
    "                # self.population[wolf].show_values()\n",
    "                \n",
    "                \n",
    "                # Ecuación 3.3\n",
    "                \n",
    "                A_1 = 2 * a * random.random() - a \n",
    "                A_2 = 2 * a * random.random() - a\n",
    "                A_3 = 2 * a * random.random() - a\n",
    "                \n",
    "                \n",
    "                # Ecuación 3.4\n",
    "                \n",
    "                C_1 = 2 * random.random() \n",
    "                C_2 = 2 * random.random()\n",
    "                C_3 = 3 * random.random()\n",
    "                \n",
    "                X_1 = [0 for _ in range(self.dimensions)]\n",
    "                X_2 = [0 for _ in range(self.dimensions)]\n",
    "                X_3 = [0 for _ in range(self.dimensions)]\n",
    "                X_t_prime = [0 for _ in range(self.dimensions)]\n",
    "                \n",
    "                # Ecuaciones 3.5, 3.6 y 3.7\n",
    "                for dim in range(self.dimensions):\n",
    "                    X_1[dim] = self.beta.pos[dim] - A_1 * abs(C_1 * self.beta.pos[dim] - self.population[wolf].pos[dim])\n",
    "                    X_2[dim] = self.beta.pos[dim] - A_2 * abs(C_2 * self.beta.pos[dim] - self.population[wolf].pos[dim])\n",
    "                    X_3[dim] = self.delta.pos[dim] - A_3 * abs(C_3 * self.delta.pos[dim] - self.population[wolf].pos[dim])\n",
    "                    X_t_prime[dim] = (X_1[dim] + X_2[dim] + X_3[dim]) / 3\n",
    "                    \n",
    "                old_eval = self.population[wolf].fitness\n",
    "                old_position = self.population[wolf].pos\n",
    "                self.population[wolf].update_position = X_t_prime\n",
    "                new_eval = self.population[wolf].fitness\n",
    "                if old_eval < new_eval:\n",
    "                    self.population[wolf].update_position = old_position\n",
    "            \n",
    "            self.population = np.sort(self.population)\n",
    "            self.set_hierarchy()\n",
    "            \n",
    "        return self.alpha\n",
    "            "
   ]
  },
  {
   "cell_type": "code",
   "execution_count": 38,
   "id": "2f1812be",
   "metadata": {},
   "outputs": [
    {
     "name": "stdout",
     "output_type": "stream",
     "text": [
      "Posición en dimensión 1: 3.115608629558241\n",
      "Posición en dimensión 2: 0.23963067801833215\n",
      "Posición en dimensión 3: 0.9759781211864382\n",
      "Posición en dimensión 4: 2.8597456754179644\n",
      "Posición en dimensión 5: -2.3002976644924673\n",
      "Posición en dimensión 6: -3.0552762709470676\n",
      "Posición en dimensión 7: -0.5901142809803277\n",
      "Posición en dimensión 8: 2.7976943348129115\n",
      "Posición en dimensión 9: 1.0345181932836427\n",
      "Posición en dimensión 10: -0.5896107344764001\n",
      "Evaluación: 43.114398218719224\n"
     ]
    }
   ],
   "source": [
    "funcion_prueba = Sphere()\n",
    "gwo_prueba = GWO(10, funcion_prueba, 100, 1000)\n",
    "mejor = gwo_prueba.hunt()\n",
    "mejor.show_values()\n"
   ]
  },
  {
   "cell_type": "code",
   "execution_count": 42,
   "id": "3b8f0d5e",
   "metadata": {},
   "outputs": [
    {
     "name": "stdout",
     "output_type": "stream",
     "text": [
      "Posición en dimensión 1: 0.6281556329790696\n",
      "Posición en dimensión 2: 0.05545565795835028\n",
      "Posición en dimensión 3: 1.5443115631876339\n",
      "Posición en dimensión 4: 0.6148011783721965\n",
      "Posición en dimensión 5: 1.464339290117171\n",
      "Posición en dimensión 6: 1.3447664318811503\n",
      "Posición en dimensión 7: 0.7104431337663955\n",
      "Posición en dimensión 8: 0.05615558903007045\n",
      "Posición en dimensión 9: 0.9879786691172066\n",
      "Posición en dimensión 10: -0.8786467833474962\n",
      "Evaluación: 1328.7608031599302\n"
     ]
    }
   ],
   "source": [
    "funcion_prueba = Rosenbrock()\n",
    "gwo_prueba = GWO(10, funcion_prueba, 100, 1000)\n",
    "mejor = gwo_prueba.hunt()\n",
    "mejor.show_values()\n"
   ]
  }
 ],
 "metadata": {
  "kernelspec": {
   "display_name": "Python 3",
   "language": "python",
   "name": "python3"
  },
  "language_info": {
   "codemirror_mode": {
    "name": "ipython",
    "version": 3
   },
   "file_extension": ".py",
   "mimetype": "text/x-python",
   "name": "python",
   "nbconvert_exporter": "python",
   "pygments_lexer": "ipython3",
   "version": "3.11.7"
  }
 },
 "nbformat": 4,
 "nbformat_minor": 5
}
